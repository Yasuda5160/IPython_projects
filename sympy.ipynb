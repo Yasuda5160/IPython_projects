{
 "metadata": {
  "language_info": {
   "codemirror_mode": {
    "name": "ipython",
    "version": 3
   },
   "file_extension": ".py",
   "mimetype": "text/x-python",
   "name": "python",
   "nbconvert_exporter": "python",
   "pygments_lexer": "ipython3",
   "version": "3.8.3-final"
  },
  "orig_nbformat": 2,
  "kernelspec": {
   "name": "python3",
   "display_name": "Python 3",
   "language": "python"
  }
 },
 "nbformat": 4,
 "nbformat_minor": 2,
 "cells": [
  {
   "cell_type": "code",
   "execution_count": 1,
   "metadata": {},
   "outputs": [
    {
     "output_type": "stream",
     "name": "stdout",
     "text": [
      "x\n<class 'sympy.core.symbol.Symbol'>\n"
     ]
    }
   ],
   "source": [
    "from sympy import *\n",
    "x = symbols('x')\n",
    "\n",
    "print(x)\n",
    "print(type(x))"
   ]
  },
  {
   "cell_type": "code",
   "execution_count": 2,
   "metadata": {},
   "outputs": [],
   "source": [
    "x, y, z = symbols('x y z')\n",
    "x, y, z = symbols('x,y,z')\n",
    "x, y, z = symbols(['x', 'y', 'z'])"
   ]
  },
  {
   "cell_type": "code",
   "execution_count": 3,
   "metadata": {},
   "outputs": [
    {
     "output_type": "stream",
     "name": "stdout",
     "text": [
      "(a0, a1, a2)\n(b10, b11, b12)\n(c01, c02, c03)\n(a, b, c)\n(xb, xc, xd)\n(x0, x1, y0, y1)\n"
     ]
    }
   ],
   "source": [
    "print(symbols('a:3'))\n",
    "print(symbols('b10:13'))\n",
    "print(symbols('c0(1:4)'))\n",
    "print(symbols(':c'))\n",
    "print(symbols('x(b:d)'))\n",
    "print(symbols('(x:y)(0:2)'))"
   ]
  },
  {
   "cell_type": "code",
   "execution_count": 4,
   "metadata": {},
   "outputs": [
    {
     "output_type": "execute_result",
     "data": {
      "text/plain": [
       "True"
      ]
     },
     "metadata": {},
     "execution_count": 4
    }
   ],
   "source": [
    "x = symbols('x', integer = True)\n",
    "\n",
    "x.is_integer"
   ]
  },
  {
   "cell_type": "code",
   "execution_count": 5,
   "metadata": {},
   "outputs": [
    {
     "output_type": "execute_result",
     "data": {
      "text/plain": [
       "-sqrt(1/x) + 1/sqrt(x)"
      ],
      "text/latex": "$\\displaystyle - \\sqrt{\\frac{1}{x}} + \\frac{1}{\\sqrt{x}}$"
     },
     "metadata": {},
     "execution_count": 5
    }
   ],
   "source": [
    "x = symbols('x')\n",
    "\n",
    "1/ sqrt(x) - sqrt(1 / x)"
   ]
  },
  {
   "cell_type": "code",
   "execution_count": 6,
   "metadata": {},
   "outputs": [
    {
     "output_type": "execute_result",
     "data": {
      "text/plain": [
       "0"
      ],
      "text/latex": "$\\displaystyle 0$"
     },
     "metadata": {},
     "execution_count": 6
    }
   ],
   "source": [
    "x = symbols('x', positive = True)\n",
    "\n",
    "1/sqrt(x) - sqrt(1/x)"
   ]
  },
  {
   "cell_type": "code",
   "execution_count": 7,
   "metadata": {},
   "outputs": [
    {
     "output_type": "execute_result",
     "data": {
      "text/plain": [
       "-1"
      ],
      "text/latex": "$\\displaystyle -1$"
     },
     "metadata": {},
     "execution_count": 7
    }
   ],
   "source": [
    "cos(pi)"
   ]
  },
  {
   "cell_type": "code",
   "execution_count": 8,
   "metadata": {},
   "outputs": [
    {
     "output_type": "stream",
     "name": "stdout",
     "text": [
      "f\n<class 'sympy.core.function.UndefinedFunction'>\n"
     ]
    }
   ],
   "source": [
    "f = Function('f')\n",
    "print(f)\n",
    "print(type(f))"
   ]
  },
  {
   "cell_type": "code",
   "execution_count": 9,
   "metadata": {},
   "outputs": [],
   "source": [
    "x, y = symbols('x, y')\n",
    "f = Function('f')(x, y)"
   ]
  },
  {
   "cell_type": "code",
   "execution_count": 10,
   "metadata": {},
   "outputs": [
    {
     "output_type": "execute_result",
     "data": {
      "text/plain": [
       "{x, y}"
      ]
     },
     "metadata": {},
     "execution_count": 10
    }
   ],
   "source": [
    "f.free_symbols"
   ]
  },
  {
   "cell_type": "code",
   "execution_count": 11,
   "metadata": {},
   "outputs": [
    {
     "output_type": "execute_result",
     "data": {
      "text/plain": [
       "exp(x) - 1"
      ],
      "text/latex": "$\\displaystyle e^{x} - 1$"
     },
     "metadata": {},
     "execution_count": 11
    }
   ],
   "source": [
    "exp(x) + exp(I * pi)"
   ]
  },
  {
   "cell_type": "code",
   "execution_count": 12,
   "metadata": {},
   "outputs": [
    {
     "output_type": "stream",
     "name": "stdout",
     "text": [
      "5\n<class 'sympy.core.numbers.Integer'>\n"
     ]
    }
   ],
   "source": [
    "x = Integer(5)\n",
    "print(x)\n",
    "print(type(x))"
   ]
  },
  {
   "cell_type": "code",
   "execution_count": 13,
   "metadata": {},
   "outputs": [
    {
     "output_type": "stream",
     "name": "stdout",
     "text": [
      "5/3\n<class 'sympy.core.numbers.Rational'>\n"
     ]
    }
   ],
   "source": [
    "y = x / 3\n",
    "print(y)\n",
    "print(type(y))"
   ]
  },
  {
   "cell_type": "code",
   "execution_count": 14,
   "metadata": {},
   "outputs": [
    {
     "output_type": "execute_result",
     "data": {
      "text/plain": [
       "1.1000"
      ],
      "text/latex": "$\\displaystyle 1.1$"
     },
     "metadata": {},
     "execution_count": 14
    }
   ],
   "source": [
    "x = Float(1.1, 5)\n",
    "x"
   ]
  },
  {
   "cell_type": "code",
   "execution_count": 15,
   "metadata": {},
   "outputs": [
    {
     "output_type": "stream",
     "name": "stdout",
     "text": [
      "0.20000000000000001110\n0.20000000000000000000\n"
     ]
    }
   ],
   "source": [
    "print(Float(0.2, 20))\n",
    "print(Float('0.2', 20))"
   ]
  },
  {
   "cell_type": "code",
   "execution_count": 16,
   "metadata": {},
   "outputs": [
    {
     "output_type": "execute_result",
     "data": {
      "text/plain": [
       "2.200012207"
      ],
      "text/latex": "$\\displaystyle 2.200012207$"
     },
     "metadata": {},
     "execution_count": 16
    }
   ],
   "source": [
    "Float('2', 10) + Float('0.2', 3)"
   ]
  },
  {
   "cell_type": "code",
   "execution_count": 17,
   "metadata": {},
   "outputs": [
    {
     "output_type": "execute_result",
     "data": {
      "text/plain": [
       "1/3"
      ],
      "text/latex": "$\\displaystyle \\frac{1}{3}$"
     },
     "metadata": {},
     "execution_count": 17
    }
   ],
   "source": [
    "Rational('1/3')"
   ]
  },
  {
   "cell_type": "code",
   "execution_count": 19,
   "metadata": {},
   "outputs": [
    {
     "output_type": "execute_result",
     "data": {
      "text/plain": [
       "1/3"
      ],
      "text/latex": "$\\displaystyle \\frac{1}{3}$"
     },
     "metadata": {},
     "execution_count": 19
    }
   ],
   "source": [
    "Rational(2, 6)"
   ]
  },
  {
   "cell_type": "code",
   "execution_count": 20,
   "metadata": {},
   "outputs": [
    {
     "output_type": "execute_result",
     "data": {
      "text/plain": [
       "11/6"
      ],
      "text/latex": "$\\displaystyle \\frac{11}{6}$"
     },
     "metadata": {},
     "execution_count": 20
    }
   ],
   "source": [
    "x = Rational(4, 3)\n",
    "y = Rational(1, 2)\n",
    "\n",
    "x + y"
   ]
  },
  {
   "cell_type": "code",
   "execution_count": 22,
   "metadata": {},
   "outputs": [
    {
     "output_type": "execute_result",
     "data": {
      "text/plain": [
       "2*x**3 + 5*x - 4"
      ],
      "text/latex": "$\\displaystyle 2 x^{3} + 5 x - 4$"
     },
     "metadata": {},
     "execution_count": 22
    }
   ],
   "source": [
    "x = symbols('x')\n",
    "\n",
    "eq = 2 * x**3 + 5 * x -4\n",
    "eq"
   ]
  },
  {
   "cell_type": "code",
   "execution_count": 23,
   "metadata": {},
   "outputs": [
    {
     "output_type": "stream",
     "name": "stdout",
     "text": [
      "(-4, 2*x**3, 5*x)\n(5, x)\n"
     ]
    }
   ],
   "source": [
    "print(eq.args)\n",
    "print(eq.args[2].args)"
   ]
  },
  {
   "cell_type": "code",
   "execution_count": 24,
   "metadata": {},
   "outputs": [
    {
     "output_type": "execute_result",
     "data": {
      "text/plain": [
       "y**2 + y"
      ],
      "text/latex": "$\\displaystyle y^{2} + y$"
     },
     "metadata": {},
     "execution_count": 24
    }
   ],
   "source": [
    "y = symbols('y')\n",
    "\n",
    "(x + x * y).subs(x, y)"
   ]
  },
  {
   "cell_type": "code",
   "execution_count": 25,
   "metadata": {},
   "outputs": [
    {
     "output_type": "execute_result",
     "data": {
      "text/plain": [
       "sqrt(z) + z**2"
      ],
      "text/latex": "$\\displaystyle \\sqrt{z} + z^{2}$"
     },
     "metadata": {},
     "execution_count": 25
    }
   ],
   "source": [
    "z = symbols('z')\n",
    "\n",
    "(x + y).subs({x: z**2, y: sqrt(z)})"
   ]
  },
  {
   "cell_type": "code",
   "execution_count": 26,
   "metadata": {},
   "outputs": [
    {
     "output_type": "execute_result",
     "data": {
      "text/plain": [
       "0.900000000000000"
      ],
      "text/latex": "$\\displaystyle 0.9$"
     },
     "metadata": {},
     "execution_count": 26
    }
   ],
   "source": [
    "(x + y + z).subs({x: 0.1, y: 0.3, z: 0.5})"
   ]
  },
  {
   "cell_type": "code",
   "execution_count": 29,
   "metadata": {},
   "outputs": [
    {
     "output_type": "stream",
     "name": "stdout",
     "text": [
      "pi/2\n1.57079632679489661923132169164\n"
     ]
    }
   ],
   "source": [
    "eq = pi/2\n",
    "print(eq)\n",
    "\n",
    "print(eq.evalf(30))"
   ]
  },
  {
   "cell_type": "code",
   "execution_count": 30,
   "metadata": {},
   "outputs": [
    {
     "output_type": "execute_result",
     "data": {
      "text/plain": [
       "5"
      ]
     },
     "metadata": {},
     "execution_count": 30
    }
   ],
   "source": [
    "eq = x**2 + 1\n",
    "eqf = lambdify(x, eq)\n",
    "\n",
    "eqf(2)"
   ]
  },
  {
   "cell_type": "code",
   "execution_count": 33,
   "metadata": {},
   "outputs": [
    {
     "output_type": "execute_result",
     "data": {
      "text/plain": [
       "array([ 1,  2,  5, 10, 17])"
      ]
     },
     "metadata": {},
     "execution_count": 33
    }
   ],
   "source": [
    "import numpy as np\n",
    "\n",
    "arr = np.arange(5)\n",
    "eqf(arr)"
   ]
  },
  {
   "cell_type": "code",
   "execution_count": 34,
   "metadata": {},
   "outputs": [
    {
     "output_type": "execute_result",
     "data": {
      "text/plain": [
       "FiniteSet(-1, 1)"
      ],
      "text/latex": "$\\displaystyle \\left\\{-1, 1\\right\\}$"
     },
     "metadata": {},
     "execution_count": 34
    }
   ],
   "source": [
    "solveset(x**2 - 1)"
   ]
  },
  {
   "cell_type": "code",
   "execution_count": 35,
   "metadata": {},
   "outputs": [
    {
     "output_type": "execute_result",
     "data": {
      "text/plain": [
       "FiniteSet(-1, 1)"
      ],
      "text/latex": "$\\displaystyle \\left\\{-1, 1\\right\\}$"
     },
     "metadata": {},
     "execution_count": 35
    }
   ],
   "source": [
    "expr = Eq(x**2, 1)\n",
    "solveset(expr)"
   ]
  },
  {
   "cell_type": "code",
   "execution_count": 36,
   "metadata": {},
   "outputs": [
    {
     "output_type": "execute_result",
     "data": {
      "text/plain": [
       "FiniteSet(-b/a)"
      ],
      "text/latex": "$\\displaystyle \\left\\{- \\frac{b}{a}\\right\\}$"
     },
     "metadata": {},
     "execution_count": 36
    }
   ],
   "source": [
    "a, b = symbols('a, b')\n",
    "\n",
    "solveset(a * x + b, x)"
   ]
  },
  {
   "cell_type": "code",
   "execution_count": 37,
   "metadata": {},
   "outputs": [
    {
     "output_type": "stream",
     "name": "stdout",
     "text": [
      "FiniteSet(CRootOf(x**5 - x - 1, 0), CRootOf(x**5 - x - 1, 1), CRootOf(x**5 - x - 1, 2), CRootOf(x**5 - x - 1, 3), CRootOf(x**5 - x - 1, 4))\n",
      "[1.16730397826142, -0.764884433600585 - 0.352471546031726*I, -0.764884433600585 + 0.352471546031726*I, 0.181232444469875 - 1.08395410131771*I, 0.181232444469875 + 1.08395410131771*I]\n"
     ]
    }
   ],
   "source": [
    "ans = solveset(x**5 - x - 1, x)\n",
    "\n",
    "print(ans)\n",
    "print([i.evalf() for i in ans])"
   ]
  },
  {
   "cell_type": "code",
   "execution_count": 38,
   "metadata": {},
   "outputs": [
    {
     "output_type": "execute_result",
     "data": {
      "text/plain": [
       "EmptySet"
      ],
      "text/latex": "$\\displaystyle \\emptyset$"
     },
     "metadata": {},
     "execution_count": 38
    }
   ],
   "source": [
    "solveset(exp(x))"
   ]
  },
  {
   "cell_type": "code",
   "execution_count": 39,
   "metadata": {},
   "outputs": [
    {
     "output_type": "execute_result",
     "data": {
      "text/plain": [
       "ConditionSet(x, Eq(exp(x) + log(x), 0), Complexes)"
      ],
      "text/latex": "$\\displaystyle \\left\\{x \\mid x \\in \\mathbb{C} \\wedge e^{x} + \\log{\\left(x \\right)} = 0 \\right\\}$"
     },
     "metadata": {},
     "execution_count": 39
    }
   ],
   "source": [
    "solveset(exp(x) + log(x), x)"
   ]
  },
  {
   "cell_type": "code",
   "execution_count": 40,
   "metadata": {},
   "outputs": [
    {
     "output_type": "execute_result",
     "data": {
      "text/plain": [
       "FiniteSet((-1, 8))"
      ],
      "text/latex": "$\\displaystyle \\left\\{\\left( -1, \\  8\\right)\\right\\}$"
     },
     "metadata": {},
     "execution_count": 40
    }
   ],
   "source": [
    "eq1 = x + y - 7\n",
    "eq2 = -3 * x - y + 5\n",
    "\n",
    "linsolve([eq1, eq2], [x, y])"
   ]
  },
  {
   "cell_type": "code",
   "execution_count": 43,
   "metadata": {},
   "outputs": [
    {
     "output_type": "execute_result",
     "data": {
      "text/plain": [
       "FiniteSet((2, 1/2))"
      ],
      "text/latex": "$\\displaystyle \\left\\{\\left( 2, \\  \\frac{1}{2}\\right)\\right\\}$"
     },
     "metadata": {},
     "execution_count": 43
    }
   ],
   "source": [
    "eq3 = x * y - 1\n",
    "eq4 = x - 2\n",
    "\n",
    "nonlinsolve([eq3, eq4], [x, y])"
   ]
  },
  {
   "cell_type": "code",
   "execution_count": 44,
   "metadata": {},
   "outputs": [
    {
     "output_type": "execute_result",
     "data": {
      "text/plain": [
       "x**2 + x*(x + 6) - x - cos(2*x)/2 + 1/2"
      ],
      "text/latex": "$\\displaystyle x^{2} + x \\left(x + 6\\right) - x - \\frac{\\cos{\\left(2 x \\right)}}{2} + \\frac{1}{2}$"
     },
     "metadata": {},
     "execution_count": 44
    }
   ],
   "source": [
    "x = symbols('x')\n",
    "\n",
    "eq = x**2 - x + x * (x + 6) + (1 - cos(2 * x)) / 2\n",
    "eq"
   ]
  },
  {
   "cell_type": "code",
   "execution_count": 45,
   "metadata": {},
   "outputs": [
    {
     "output_type": "execute_result",
     "data": {
      "text/plain": [
       "2*x**2 + 5*x + sin(x)**2"
      ],
      "text/latex": "$\\displaystyle 2 x^{2} + 5 x + \\sin^{2}{\\left(x \\right)}$"
     },
     "metadata": {},
     "execution_count": 45
    }
   ],
   "source": [
    "simplify(eq)"
   ]
  },
  {
   "cell_type": "code",
   "execution_count": 46,
   "metadata": {},
   "outputs": [
    {
     "output_type": "execute_result",
     "data": {
      "text/plain": [
       "x*(x - 3)*(2*x + 1)"
      ],
      "text/latex": "$\\displaystyle x \\left(x - 3\\right) \\left(2 x + 1\\right)$"
     },
     "metadata": {},
     "execution_count": 46
    }
   ],
   "source": [
    "eq = x * (2 * x + 1) * (x - 3)\n",
    "eq"
   ]
  },
  {
   "cell_type": "code",
   "execution_count": 47,
   "metadata": {},
   "outputs": [
    {
     "output_type": "execute_result",
     "data": {
      "text/plain": [
       "[-1/2, 0, 3]"
      ]
     },
     "metadata": {},
     "execution_count": 47
    }
   ],
   "source": [
    "solve(eq)"
   ]
  },
  {
   "cell_type": "code",
   "execution_count": 48,
   "metadata": {},
   "outputs": [
    {
     "output_type": "execute_result",
     "data": {
      "text/plain": [
       "2*x**3 - 5*x**2 - 3*x"
      ],
      "text/latex": "$\\displaystyle 2 x^{3} - 5 x^{2} - 3 x$"
     },
     "metadata": {},
     "execution_count": 48
    }
   ],
   "source": [
    "expand(eq)"
   ]
  },
  {
   "cell_type": "code",
   "execution_count": 49,
   "metadata": {},
   "outputs": [
    {
     "output_type": "execute_result",
     "data": {
      "text/plain": [
       "-sin(x)*sin(y) + cos(x)*cos(y)"
      ],
      "text/latex": "$\\displaystyle - \\sin{\\left(x \\right)} \\sin{\\left(y \\right)} + \\cos{\\left(x \\right)} \\cos{\\left(y \\right)}$"
     },
     "metadata": {},
     "execution_count": 49
    }
   ],
   "source": [
    "y = symbols('y')\n",
    "expand(cos(x + y), trig = True)"
   ]
  },
  {
   "cell_type": "code",
   "execution_count": 50,
   "metadata": {},
   "outputs": [
    {
     "output_type": "execute_result",
     "data": {
      "text/plain": [
       "(x + 1)*(2*x + 3)"
      ],
      "text/latex": "$\\displaystyle \\left(x + 1\\right) \\left(2 x + 3\\right)$"
     },
     "metadata": {},
     "execution_count": 50
    }
   ],
   "source": [
    "factor(2 * x**2 + 5*x + 3)"
   ]
  },
  {
   "cell_type": "code",
   "execution_count": 51,
   "metadata": {},
   "outputs": [
    {
     "output_type": "execute_result",
     "data": {
      "text/plain": [
       "x**2*y**2 + 4*x**2*y + 4*x**2 + 6*x*y*z + 12*x*z + 9*z**2"
      ],
      "text/latex": "$\\displaystyle x^{2} y^{2} + 4 x^{2} y + 4 x^{2} + 6 x y z + 12 x z + 9 z^{2}$"
     },
     "metadata": {},
     "execution_count": 51
    }
   ],
   "source": [
    "z = symbols('z')\n",
    "eq = expand((2 * x + x * y + 3 * z)**2)\n",
    "eq"
   ]
  },
  {
   "cell_type": "code",
   "execution_count": 52,
   "metadata": {},
   "outputs": [
    {
     "output_type": "execute_result",
     "data": {
      "text/plain": [
       "x**2*(y**2 + 4*y + 4) + x*(6*y*z + 12*z) + 9*z**2"
      ],
      "text/latex": "$\\displaystyle x^{2} \\left(y^{2} + 4 y + 4\\right) + x \\left(6 y z + 12 z\\right) + 9 z^{2}$"
     },
     "metadata": {},
     "execution_count": 52
    }
   ],
   "source": [
    "collect(eq, x)"
   ]
  },
  {
   "cell_type": "code",
   "execution_count": 53,
   "metadata": {},
   "outputs": [
    {
     "output_type": "execute_result",
     "data": {
      "text/plain": [
       "x*y/((x + 1)*(y + 1))"
      ],
      "text/latex": "$\\displaystyle \\frac{x y}{\\left(x + 1\\right) \\left(y + 1\\right)}$"
     },
     "metadata": {},
     "execution_count": 53
    }
   ],
   "source": [
    "eq1 = x * y/((x + 1) * (y + 1))\n",
    "eq1"
   ]
  },
  {
   "cell_type": "code",
   "execution_count": 54,
   "metadata": {},
   "outputs": [
    {
     "output_type": "execute_result",
     "data": {
      "text/plain": [
       "y/(y + 1) - y/((x + 1)*(y + 1))"
      ],
      "text/latex": "$\\displaystyle \\frac{y}{y + 1} - \\frac{y}{\\left(x + 1\\right) \\left(y + 1\\right)}$"
     },
     "metadata": {},
     "execution_count": 54
    }
   ],
   "source": [
    "eq2 = apart(eq1, x)\n",
    "eq2"
   ]
  },
  {
   "cell_type": "code",
   "execution_count": 55,
   "metadata": {},
   "outputs": [
    {
     "output_type": "execute_result",
     "data": {
      "text/plain": [
       "x*y/((x + 1)*(y + 1))"
      ],
      "text/latex": "$\\displaystyle \\frac{x y}{\\left(x + 1\\right) \\left(y + 1\\right)}$"
     },
     "metadata": {},
     "execution_count": 55
    }
   ],
   "source": [
    "together(eq2)"
   ]
  },
  {
   "cell_type": "code",
   "execution_count": 57,
   "metadata": {},
   "outputs": [
    {
     "output_type": "execute_result",
     "data": {
      "text/plain": [
       "(x*y**2 - 2*x*y*z + x*z**2 + y**2 - 2*y*z + z**2)/(x**2 - 1)"
      ],
      "text/latex": "$\\displaystyle \\frac{x y^{2} - 2 x y z + x z^{2} + y^{2} - 2 y z + z^{2}}{x^{2} - 1}$"
     },
     "metadata": {},
     "execution_count": 57
    }
   ],
   "source": [
    "eq = (x * y**2 - 2 * x * y * z + x * z**2 + y**2 - 2 * y * z + z**2)/(x**2 - 1)\n",
    "eq"
   ]
  },
  {
   "cell_type": "code",
   "execution_count": 58,
   "metadata": {},
   "outputs": [
    {
     "output_type": "execute_result",
     "data": {
      "text/plain": [
       "(y**2 - 2*y*z + z**2)/(x - 1)"
      ],
      "text/latex": "$\\displaystyle \\frac{y^{2} - 2 y z + z^{2}}{x - 1}$"
     },
     "metadata": {},
     "execution_count": 58
    }
   ],
   "source": [
    "cancel(eq)"
   ]
  },
  {
   "cell_type": "code",
   "execution_count": 63,
   "metadata": {},
   "outputs": [
    {
     "output_type": "execute_result",
     "data": {
      "text/plain": [
       "Matrix([\n",
       "[0, a],\n",
       "[b, 1]])"
      ],
      "text/latex": "$\\displaystyle \\left[\\begin{matrix}0 & a\\\\b & 1\\end{matrix}\\right]$"
     },
     "metadata": {},
     "execution_count": 63
    }
   ],
   "source": [
    "a, b = symbols('a, b')\n",
    "Matrix([[0, a],\n",
    "        [b, 1]])"
   ]
  },
  {
   "cell_type": "code",
   "execution_count": 64,
   "metadata": {},
   "outputs": [
    {
     "output_type": "execute_result",
     "data": {
      "text/plain": [
       "Matrix([\n",
       "[-1],\n",
       "[ 1]])"
      ],
      "text/latex": "$\\displaystyle \\left[\\begin{matrix}-1\\\\1\\end{matrix}\\right]$"
     },
     "metadata": {},
     "execution_count": 64
    }
   ],
   "source": [
    "Matrix([-1, 1])"
   ]
  },
  {
   "cell_type": "code",
   "execution_count": 65,
   "metadata": {},
   "outputs": [
    {
     "output_type": "execute_result",
     "data": {
      "text/plain": [
       "Matrix([\n",
       "[1, 0, 0],\n",
       "[0, 1, 0],\n",
       "[0, 0, 1]])"
      ],
      "text/latex": "$\\displaystyle \\left[\\begin{matrix}1 & 0 & 0\\\\0 & 1 & 0\\\\0 & 0 & 1\\end{matrix}\\right]$"
     },
     "metadata": {},
     "execution_count": 65
    }
   ],
   "source": [
    "eye(3)"
   ]
  },
  {
   "cell_type": "code",
   "execution_count": 66,
   "metadata": {},
   "outputs": [
    {
     "output_type": "execute_result",
     "data": {
      "text/plain": [
       "Matrix([\n",
       "[0, 0, 0],\n",
       "[0, 0, 0],\n",
       "[0, 0, 0]])"
      ],
      "text/latex": "$\\displaystyle \\left[\\begin{matrix}0 & 0 & 0\\\\0 & 0 & 0\\\\0 & 0 & 0\\end{matrix}\\right]$"
     },
     "metadata": {},
     "execution_count": 66
    }
   ],
   "source": [
    "zeros(3)"
   ]
  },
  {
   "cell_type": "code",
   "execution_count": 67,
   "metadata": {},
   "outputs": [
    {
     "output_type": "execute_result",
     "data": {
      "text/plain": [
       "Matrix([\n",
       "[3, 3],\n",
       "[0, 2]])"
      ],
      "text/latex": "$\\displaystyle \\left[\\begin{matrix}3 & 3\\\\0 & 2\\end{matrix}\\right]$"
     },
     "metadata": {},
     "execution_count": 67
    }
   ],
   "source": [
    "M1 = Matrix([[0, 1],\n",
    "            [-1, 2]])\n",
    "M2 = Matrix([[3, 2],\n",
    "            [1, 0]])\n",
    "M1 + M2"
   ]
  },
  {
   "cell_type": "code",
   "execution_count": 68,
   "metadata": {},
   "outputs": [
    {
     "output_type": "execute_result",
     "data": {
      "text/plain": [
       "Matrix([\n",
       "[       y],\n",
       "[-x + 2*y]])"
      ],
      "text/latex": "$\\displaystyle \\left[\\begin{matrix}y\\\\- x + 2 y\\end{matrix}\\right]$"
     },
     "metadata": {},
     "execution_count": 68
    }
   ],
   "source": [
    "v = Matrix(symbols('x, y'))\n",
    "M1 * v"
   ]
  },
  {
   "cell_type": "code",
   "execution_count": 69,
   "metadata": {},
   "outputs": [
    {
     "output_type": "execute_result",
     "data": {
      "text/plain": [
       "Matrix([\n",
       "[0, -1],\n",
       "[1,  2]])"
      ],
      "text/latex": "$\\displaystyle \\left[\\begin{matrix}0 & -1\\\\1 & 2\\end{matrix}\\right]$"
     },
     "metadata": {},
     "execution_count": 69
    }
   ],
   "source": [
    "M1.T"
   ]
  },
  {
   "cell_type": "code",
   "execution_count": 75,
   "metadata": {},
   "outputs": [
    {
     "output_type": "execute_result",
     "data": {
      "text/plain": [
       "<bound method MatrixBase.inverse_ADJ of Matrix([\n",
       "[ 0, 1],\n",
       "[-1, 2]])>"
      ]
     },
     "metadata": {},
     "execution_count": 75
    }
   ],
   "source": [
    "M1.inverse_ADJ"
   ]
  },
  {
   "cell_type": "code",
   "execution_count": null,
   "metadata": {},
   "outputs": [],
   "source": []
  }
 ]
}